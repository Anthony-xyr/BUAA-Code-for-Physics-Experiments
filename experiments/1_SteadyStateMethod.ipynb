{
 "cells": [
  {
   "cell_type": "markdown",
   "id": "8a77807f92f26ee",
   "metadata": {},
   "source": [
    "# 稳态法测量不良导体热导率\n",
    "---"
   ]
  },
  {
   "cell_type": "code",
   "execution_count": null,
   "id": "fbc121e30a2defb3",
   "metadata": {
    "ExecuteTime": {
     "end_time": "2025-09-29T13:36:17.595811Z",
     "start_time": "2025-09-29T13:36:16.015048Z"
    }
   },
   "outputs": [],
   "source": [
    "import PhyExp as pe\n",
    "import numpy as np\n",
    "import matplotlib.pyplot as plt\n",
    "from matplotlib.ticker import MultipleLocator\n",
    "plt.rcParams['font.sans-serif'] = ['SimHei', 'Microsoft YaHei', 'Arial Unicode MS']\n",
    "plt.rcParams['axes.unicode_minus'] = False # 解决负号显示问题"
   ]
  },
  {
   "cell_type": "markdown",
   "id": "e22a1ab189311103",
   "metadata": {},
   "source": [
    "## 基础物理量测量数据\n",
    "每个数据五组"
   ]
  },
  {
   "cell_type": "code",
   "execution_count": null,
   "id": "302c467f",
   "metadata": {},
   "outputs": [],
   "source": [
    "# P 的高度/mm\n",
    "Hp = np.array([, , , , ])\n",
    "# P 的直径/mm\n",
    "Dp = np.array([, , , , ])\n",
    "# B 的高度/mm\n",
    "Hb = np.array([, , , , ])\n",
    "# B 的直径/mm\n",
    "Db = np.array([, , , , ])\n",
    "# P 的质量/g\n",
    "Mp = np.array([, , , , ])"
   ]
  },
  {
   "cell_type": "markdown",
   "id": "6377dc6d",
   "metadata": {},
   "source": [
    "## 稳态数据\n",
    "取稳态内的10分钟温度数据（其他时间长度更改数组长度即可）\n",
    "\n",
    "注意温差只考虑B类不确定度"
   ]
  },
  {
   "cell_type": "code",
   "execution_count": null,
   "id": "76c4fb4a",
   "metadata": {},
   "outputs": [],
   "source": [
    "# C 面温度/℃\n",
    "T1 = np.array([, , , , , , , , , ])\n",
    "# P 面温度/℃\n",
    "T2 = np.array([, , , , , , , , , ])\n",
    "# 稳态温差/℃\n",
    "DeltaT = T1 - T2\n",
    "print(\"稳态温差/℃:\")\n",
    "print(DeltaT)\n",
    "mean_DT, _, B_uncertainty_DT, _ = pe.mean_std(DeltaT, 0.1)\n",
    "print(\"稳态温差的平均值和不确定度/℃:\")\n",
    "print(mean_DT, B_uncertainty_DT)"
   ]
  },
  {
   "cell_type": "markdown",
   "id": "6118b4d2",
   "metadata": {},
   "source": [
    "## 降温数据\n",
    "时间是从零开始，步长为15s，长度为45的数组（若数据组数不同修改数组长度即可）"
   ]
  },
  {
   "cell_type": "code",
   "execution_count": null,
   "id": "2d8e2ae3",
   "metadata": {},
   "outputs": [],
   "source": [
    "# 降温数据组数\n",
    "n = \n",
    "# 时间数组\n",
    "time = np.arange(0, n*15, 15)\n",
    "# P 温度/℃\n",
    "Tp = np.array([  ])"
   ]
  },
  {
   "cell_type": "markdown",
   "id": "f5ad5af2",
   "metadata": {},
   "source": [
    "## 仪器容差"
   ]
  },
  {
   "cell_type": "code",
   "execution_count": null,
   "id": "97a6ae97",
   "metadata": {},
   "outputs": [],
   "source": [
    "delta_Hp = 0.02  # P 高度测量仪器误差/mm\n",
    "delta_Dp = 0.02  # P 直径测量仪器误差/mm\n",
    "delta_Hb = 0.02  # B 高度测量仪器误差/mm\n",
    "delta_Db = 0.02  # B 直径测量仪器误差/mm\n",
    "delta_Mp = 0.01  # P 质量测量仪器误差/g\n",
    "delta_T = 0.1    # 温度测量仪器误差/℃\n",
    "delta_time = 0.05  # 时间测量仪器误差/s"
   ]
  },
  {
   "cell_type": "markdown",
   "id": "3e5845fa",
   "metadata": {},
   "source": [
    "## 数据处理\n"
   ]
  },
  {
   "cell_type": "markdown",
   "id": "6ab1521b",
   "metadata": {},
   "source": [
    "基础物理量数据处理\n",
    "\n",
    "**注意：温度与时间相关变量仅考虑B类不确定度**\n",
    "\n",
    "变量名自己对着看吧（）"
   ]
  },
  {
   "cell_type": "code",
   "execution_count": null,
   "id": "5d0529e9",
   "metadata": {},
   "outputs": [],
   "source": [
    "mean_Hp, A_uncertainty_Hp, B_uncertainty_Hp, uncertainty_Hp = pe.mean_std(Hp, delta_Hp)\n",
    "mean_Dp, A_uncertainty_Dp, B_uncertainty_Dp, uncertainty_Dp = pe.mean_std(Dp, delta_Dp)\n",
    "mean_Hb, A_uncertainty_Hb, B_uncertainty_Hb, uncertainty_Hb = pe.mean_std(Hb, delta_Hb)\n",
    "mean_Db, A_uncertainty_Db, B_uncertainty_Db, uncertainty_Db = pe.mean_std(Db, delta_Db)\n",
    "mean_Mp, A_uncertainty_Mp, B_uncertainty_Mp, uncertainty_Mp = pe.mean_std(Mp, delta_Mp)\n",
    "print(\"各物理量的平均值、A类不确定度、B类不确定度和不确定度:\")\n",
    "print(mean_Hp, A_uncertainty_Hp, B_uncertainty_Hp, uncertainty_Hp)\n",
    "print(mean_Dp, A_uncertainty_Dp, B_uncertainty_Dp, uncertainty_Dp)\n",
    "print(mean_Hb, A_uncertainty_Hb, B_uncertainty_Hb, uncertainty_Hb)\n",
    "print(mean_Db, A_uncertainty_Db, B_uncertainty_Db, uncertainty_Db)\n",
    "print(mean_Mp, A_uncertainty_Mp, B_uncertainty_Mp, uncertainty_Mp)"
   ]
  }
 ],
 "metadata": {
  "kernelspec": {
   "display_name": "PhyExp",
   "language": "python",
   "name": "python3"
  },
  "language_info": {
   "codemirror_mode": {
    "name": "ipython",
    "version": 3
   },
   "file_extension": ".py",
   "mimetype": "text/x-python",
   "name": "python",
   "nbconvert_exporter": "python",
   "pygments_lexer": "ipython3",
   "version": "3.13.7"
  }
 },
 "nbformat": 4,
 "nbformat_minor": 5
}
