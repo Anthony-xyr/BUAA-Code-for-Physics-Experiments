{
 "cells": [
  {
   "cell_type": "markdown",
   "id": "2965df2227f25077",
   "metadata": {},
   "source": [
    "# 弹性模量与转动惯量\n",
    "---"
   ]
  },
  {
   "cell_type": "code",
   "execution_count": null,
   "id": "657a3f6a7d800b3b",
   "metadata": {
    "ExecuteTime": {
     "end_time": "2025-10-31T12:50:45.426362Z",
     "start_time": "2025-10-31T12:50:44.383123Z"
    }
   },
   "outputs": [],
   "source": [
    "import numpy as np\n",
    "import PhyExp as pe"
   ]
  },
  {
   "cell_type": "markdown",
   "id": "c0556dfc1abb613",
   "metadata": {},
   "source": [
    "## 弹性模量\n",
    "### 基础数据"
   ]
  },
  {
   "cell_type": "code",
   "execution_count": null,
   "id": "277765873baa52c3",
   "metadata": {
    "ExecuteTime": {
     "end_time": "2025-10-31T12:50:45.477723Z",
     "start_time": "2025-10-31T12:50:45.462387Z"
    }
   },
   "outputs": [],
   "source": [
    "## 填入数据 begin\n",
    "# 金属丝直径/mm 五组数据\n",
    "D = np.array([_])\n",
    "# 千分尺零点/mm\n",
    "x0 = _\n",
    "# 距离/cm\n",
    "H = _\n",
    "# 金属丝长度/cm\n",
    "L = _\n",
    "## 填入数据 end\n",
    "\n",
    "# 光杠杆长度/cm\n",
    "b = 2\n",
    "# 修正后的金属丝直径/mm\n",
    "D_corrected = D - x0\n",
    "\n",
    "# 输出结果\n",
    "print(f\"修正后的金属丝直径/mm: {D_corrected}\")"
   ]
  },
  {
   "cell_type": "markdown",
   "id": "65ef1de7daa65557",
   "metadata": {},
   "source": [
    "### 伸长量数据与拟合"
   ]
  },
  {
   "cell_type": "code",
   "execution_count": null,
   "id": "b83e7dc66625b74f",
   "metadata": {
    "ExecuteTime": {
     "end_time": "2025-10-31T12:50:45.881254Z",
     "start_time": "2025-10-31T12:50:45.874111Z"
    }
   },
   "outputs": [],
   "source": [
    "## 填入数据 begin\n",
    "# 砝码质量(乘10修正后)/kg\n",
    "m = np.linspace(_, _, _)  # 初始质量 终止质量 数据组数\n",
    "# 标尺读数/cm\n",
    "x = np.array([_])\n",
    "## 填入数据 end\n",
    "\n",
    "x_delta = 0.025  # 读数允差/cm\n",
    "# 所有的数据化为国际单位制\n",
    "D_SI = D_corrected / 1000   # m\n",
    "H_SI = H / 100              # m\n",
    "L_SI = L / 100              # m\n",
    "b_SI = b / 100              # m\n",
    "x_SI = x / 100              # m\n",
    "x_delta_SI = x_delta / 100  # m\n",
    "g = 9.8015                  # m/s^2\n",
    "# 用线性拟合计算弹性模量\n",
    "k, a, r, _, k_UA, _, k_UB, _, k_U = pe.linear_fit(m, x_SI, x_delta_SI)"
   ]
  },
  {
   "cell_type": "markdown",
   "id": "ca6406e15810ef6a",
   "metadata": {},
   "source": [
    "### 杨氏模量计算与不确定度计算\n",
    "不确定度传递公式：\n",
    "$$\n",
    "u(E) = E \\sqrt{\\left(\\frac{u(L)}{L}\\right)^2 + \\left(\\frac{u(H)}{H}\\right)^2 + \\left(2\\frac{u(D)}{D}\\right)^2 + \\left(\\frac{u(b)}{b}\\right)^2 + \\left(\\frac{u(k)}{k}\\right)^2}\n",
    "$$"
   ]
  },
  {
   "cell_type": "code",
   "execution_count": null,
   "id": "ebcea85b659d6b75",
   "metadata": {
    "ExecuteTime": {
     "end_time": "2025-10-31T12:50:46.201621Z",
     "start_time": "2025-10-31T12:50:46.189664Z"
    }
   },
   "outputs": [],
   "source": [
    "# 计算杨氏模量\n",
    "E = (16 * g * L_SI * H_SI) / (np.pi * D_SI.mean()**2 * b_SI * k)\n",
    "# 计算不确定度\n",
    "# 金属丝直径/mm\n",
    "D_means, D_UA, D_UB, D_U = pe.mean_std(D_corrected, 0.005)\n",
    "# 距离/cm\n",
    "H_delta = 0.5\n",
    "H_UB = H_delta / np.sqrt(3)\n",
    "H_U = H_UB\n",
    "# 金属丝长度/cm\n",
    "L_delta = 0.3\n",
    "L_UB = L_delta / np.sqrt(3)\n",
    "L_U = L_UB\n",
    "# 光杠杆长度/cm\n",
    "b_delta = 0.02\n",
    "b_UB = b_delta / np.sqrt(3)\n",
    "b_U = b_UB\n",
    "\n",
    "# 计算最终不确定度\n",
    "E_U = E * np.sqrt((L_U / L)**2 + (H_U / H)**2 + (2 * D_U / D_means)**2 + (b_U / b)**2 + (k_U / k)**2)\n",
    "# 输出结果\n",
    "print(f\"m均值/kg: {m.mean()}\")\n",
    "print(f\"x均值/m: {x.mean()}\")\n",
    "print(f\"x^2均值/m^2: { (x**2).mean() }\")\n",
    "print(f\"m^2均值/kg^2: { (m**2).mean() }\")\n",
    "print(f\"mx均值/kg·m: { (m*x_SI).mean() }\")\n",
    "print(f\"斜率大小/m·kg^-1: {k}\")\n",
    "print(f\"斜率A类不确定度/m·kg^-1: {k_UA}\")\n",
    "print(f\"斜率B类不确定度/m·kg^-1: {k_UB}\")\n",
    "print(f\"斜率合成不确定度/m·kg^-1: {k_U}\")\n",
    "print(f\"相关系数: {r}\")\n",
    "print(f\"金属丝直径平均值/mm: {D_means}\")\n",
    "print(f\"金属丝直径A类不确定度/mm: {D_UA}\")\n",
    "print(f\"金属丝直径B类不确定度/mm: {D_UB}\")\n",
    "print(f\"金属丝直径合成不确定度/mm: {D_U}\")\n",
    "print(f\"距离/cm: {H}\")\n",
    "print(f\"距离B类不确定度/cm: {H_UB}\")\n",
    "print(f\"距离合成不确定度/cm: {H_U}\")\n",
    "print(f\"金属丝长度/cm: {L}\")\n",
    "print(f\"金属丝长度B类不确定度/cm: {L_UB}\")\n",
    "print(f\"金属丝长度合成不确定度/cm: {L_U}\")\n",
    "print(f\"光杠杆长度/cm: {b}\")\n",
    "print(f\"光杠杆长度B类不确定度/cm: {b_UB}\")\n",
    "print(f\"光杠杆长度合成不确定度/cm: {b_U}\")\n",
    "print(f\"杨氏模量/Pa: {E}\")\n",
    "print(f\"杨氏模量合成不确定度/Pa: {E_U}\")\n",
    "print(f\"重力加速度/m·s^-2: {g}\")"
   ]
  },
  {
   "cell_type": "markdown",
   "id": "2a0f2262d9a9a9e7",
   "metadata": {},
   "source": [
    "## 转动惯量\n",
    "### 基础数据\n",
    "质量请自行计算平均值并填入"
   ]
  },
  {
   "cell_type": "code",
   "execution_count": null,
   "id": "dfe54b9de4a4ddc0",
   "metadata": {
    "ExecuteTime": {
     "end_time": "2025-10-31T12:50:46.806851Z",
     "start_time": "2025-10-31T12:50:46.799607Z"
    }
   },
   "outputs": [],
   "source": [
    "## 填入数据 begin\n",
    "# 柱质量/g\n",
    "m1 = _\n",
    "# 筒质量/g\n",
    "m2 = _\n",
    "# 球质量/g\n",
    "m3 = _\n",
    "## 填入数据 end\n",
    "\n",
    "# 塑料圆柱直径/mm\n",
    "d1 = 100.10\n",
    "# 金属圆筒外径/mm\n",
    "d2_outer = 100.10\n",
    "# 金属圆筒内径/mm\n",
    "d2_inner = 90.14\n",
    "# 球直径/mm\n",
    "d3 = 110.10\n",
    "# 杆长度/mm\n",
    "L4 = 536.2\n",
    "# 杆质量/g\n",
    "m4 = 115.04\n",
    "# 滑块内径/mm\n",
    "d5_inner = 6.04\n",
    "# 滑块外径/mm\n",
    "d5_outer = 35.02\n",
    "# 滑块长度/mm\n",
    "L5 = 33.12\n",
    "# 滑块质量/g\n",
    "m5 = 242.65\n",
    "\n",
    "# 将所有数据化为国际单位制\n",
    "m1 = m1 / 1000  # kg\n",
    "m2 = m2 / 1000  # kg\n",
    "m3 = m3 / 1000  # kg\n",
    "m4 = m4 / 1000  # kg\n",
    "m5 = m5 / 1000  # kg\n",
    "d1 = d1 / 1000  # m\n",
    "d2_outer = d2_outer / 1000  # m\n",
    "d2_inner = d2_inner / 1000  # m\n",
    "d3 = d3 / 1000  # m\n",
    "L4 = L4 / 1000  # m\n",
    "d5_inner = d5_inner / 1000  # m\n",
    "d5_outer = d5_outer / 1000  # m\n",
    "L5 = L5 / 1000  # m"
   ]
  },
  {
   "cell_type": "markdown",
   "id": "bbdf77844b5adf5d",
   "metadata": {},
   "source": [
    "### 周期测量与数据处理（包含前两个选做）"
   ]
  },
  {
   "cell_type": "code",
   "execution_count": null,
   "id": "ef822f2ed471c087",
   "metadata": {
    "ExecuteTime": {
     "end_time": "2025-10-31T12:50:47.219518Z",
     "start_time": "2025-10-31T12:50:47.206188Z"
    }
   },
   "outputs": [],
   "source": [
    "## 填入数据 begin\n",
    "# 周期测量\n",
    "# 盘空转周期*10/s\n",
    "T0_10 = np.array([_])\n",
    "# 塑料圆柱周期*10/s\n",
    "T1_10 = np.array([_])\n",
    "# 金属圆筒周期*10/s\n",
    "T2_10 = _\n",
    "# 球体周期*10/s\n",
    "T3_10 = _\n",
    "# 杆周期*10/s\n",
    "T4_10 = _\n",
    "## 填入数据 end\n",
    "\n",
    "# 周期采用平均值\n",
    "T0_10_mean = T0_10.mean()\n",
    "T1_10_mean = T1_10.mean()\n",
    "# 理论计算塑料圆柱转动惯量\n",
    "I1_theoretical = (1/2) * m1 * (d1/2)**2\n",
    "# 计算扭转常数\n",
    "K = (4 * np.pi**2 * I1_theoretical) / (T1_10_mean**2 - T0_10_mean**2)\n",
    "\n",
    "# 计算圆筒转动惯量实验值与理论值\n",
    "I2 = (T2_10**2 - T0_10_mean**2) * I1_theoretical / (T1_10_mean**2 - T0_10_mean**2)\n",
    "I2_theoretical = (1/2) * m2 * ((d2_outer/2)**2 + (d2_inner/2)**2)\n",
    "# 计算相对误差\n",
    "I2_relative_error = abs(I2 - I2_theoretical) / I2_theoretical\n",
    "\n",
    "# 计算球体转动惯量实验值与理论值\n",
    "I3 = T3_10**2 * I1_theoretical / (T1_10_mean**2 - T0_10_mean**2)\n",
    "I3_theoretical = (2/5) * m3 * (d3/2)**2\n",
    "# 计算相对误差\n",
    "I3_relative_error = abs(I3 - I3_theoretical) / I3_theoretical\n",
    "\n",
    "# 计算杆转动惯量实验值与理论值\n",
    "I4 = T4_10**2 * I1_theoretical / (T1_10_mean**2 - T0_10_mean**2)\n",
    "I4_theoretical = (1/12) * m4 * L4**2\n",
    "# 计算相对误差\n",
    "I4_relative_error = abs(I4 - I4_theoretical) / I4_theoretical\n",
    "\n",
    "# 输出结果\n",
    "print(f\"盘空转周期平均值*10/s: {T0_10_mean}\")\n",
    "print(f\"塑料圆柱周期平均值*10/s: {T1_10_mean}\")\n",
    "print(f\"塑料圆柱转动惯量理论值/kg·m^2: {I1_theoretical}\")\n",
    "print(f\"扭转常数/kg·m^2/s^2: {K}\")\n",
    "print(f\"金属圆筒转动惯量实验值/kg·m^2: {I2}\")\n",
    "print(f\"金属圆筒转动惯量理论值/kg·m^2: {I2_theoretical}\")\n",
    "print(f\"金属圆筒转动惯量相对误差: {I2_relative_error}\")\n",
    "print(f\"球体转动惯量实验值/kg·m^2: {I3}\")\n",
    "print(f\"球体转动惯量理论值/kg·m^2: {I3_theoretical}\")\n",
    "print(f\"球体转动惯量相对误差: {I3_relative_error}\")\n",
    "print(f\"杆转动惯量实验值/kg·m^2: {I4}\")\n",
    "print(f\"杆转动惯量理论值/kg·m^2: {I4_theoretical}\")\n",
    "print(f\"杆转动惯量相对误差: {I4_relative_error}\")"
   ]
  },
  {
   "cell_type": "markdown",
   "id": "4dfc7a6fdab387c2",
   "metadata": {},
   "source": [
    "### 平行轴定理验证"
   ]
  },
  {
   "cell_type": "code",
   "execution_count": null,
   "id": "85d0147a12b6f3",
   "metadata": {
    "ExecuteTime": {
     "end_time": "2025-10-31T12:50:47.484440Z",
     "start_time": "2025-10-31T12:50:47.474922Z"
    }
   },
   "outputs": [],
   "source": [
    "## 填入数据 begin\n",
    "# 对称情况滑块位置/cm\n",
    "d_symmetric = np.array([_])\n",
    "# 对称情况周期*10/s\n",
    "T5_symmetric_10 = np.array([_])\n",
    "# 非对称情况滑块位置/cm\n",
    "d_left = np.array([_])\n",
    "d_right = np.array([_])\n",
    "# 非对称情况周期*10/s\n",
    "T5_ins_10 = np.array([_])\n",
    "## 填入数据 end\n",
    "\n",
    "# 化为国际单位制\n",
    "d_symmetric = d_symmetric / 100  # m\n",
    "d_left = d_left / 100            # m\n",
    "d_right = d_right / 100          # m\n",
    "\n",
    "d2 = d_symmetric**2\n",
    "T52 = T5_symmetric_10**2\n",
    "# 线性拟合计算斜率\n",
    "k_pra, _, r_pra, _, _, _, _, _, _ = pe.linear_fit(d2, T52, 0.0005)\n",
    "# 计算理论值\n",
    "k_pra_theoretical = 8*(np.pi**2)*m5/K\n",
    "# 计算相对误差\n",
    "k_pra_relative_error = abs(k_pra - k_pra_theoretical) / k_pra_theoretical\n",
    "\n",
    "# 计算非对称情况转动惯量实验值与理论值\n",
    "I_block = 1/12 * m5 * ( 3 * (d5_outer**2 + d5_inner**2) + L5**2 )\n",
    "I5_ins = T5_ins_10**2 * K / (4 * np.pi**2)\n",
    "I5_ins_theoretical = I4_theoretical + m5 * ( d_left**2 + d_right**2 ) + 2 * I_block\n",
    "# 计算相对误差\n",
    "I5_ins_relative_error = abs(I5_ins - I5_ins_theoretical) / I5_ins_theoretical\n",
    "\n",
    "# 输出结果\n",
    "print(f\"平行轴定理斜率实验值/kg·m^2/s^2: {k_pra}\")\n",
    "print(f\"平行轴定理斜率理论值/kg·m^2/s^2: {k_pra_theoretical}\")\n",
    "print(f\"平行轴定理斜率相对误差: {k_pra_relative_error}\")\n",
    "print(f\"相关系数: {r_pra}\")\n",
    "print(f\"滑块转动惯量块理论值/kg·m^2: {I_block}\")\n",
    "for i in range(len(T5_ins_10)):\n",
    "    print(f\"非对称情况第{i+1}组转动惯量实验值/kg·m^2: {I5_ins[i]}\")\n",
    "    print(f\"非对称情况第{i+1}组转动惯量理论值/kg·m^2: {I5_ins_theoretical[i]}\")\n",
    "    print(f\"非对称情况第{i+1}组转动惯量相对误差: {I5_ins_relative_error[i]}\")"
   ]
  }
 ],
 "metadata": {
  "kernelspec": {
   "display_name": "Python 3",
   "language": "python",
   "name": "python3"
  },
  "language_info": {
   "codemirror_mode": {
    "name": "ipython",
    "version": 2
   },
   "file_extension": ".py",
   "mimetype": "text/x-python",
   "name": "python",
   "nbconvert_exporter": "python",
   "pygments_lexer": "ipython2",
   "version": "2.7.6"
  }
 },
 "nbformat": 4,
 "nbformat_minor": 5
}
