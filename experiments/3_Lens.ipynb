{
 "cells": [
  {
   "cell_type": "markdown",
   "id": "413435f21beb0495",
   "metadata": {},
   "source": [
    "# 透镜焦距的测量报告\n",
    "---\n",
    "**所有数据均以厘米为单位**"
   ]
  },
  {
   "cell_type": "markdown",
   "id": "49d854d3373811f6",
   "metadata": {},
   "source": [
    "## 导包"
   ]
  },
  {
   "cell_type": "code",
   "execution_count": null,
   "id": "e4e3abfa2fd4415e",
   "metadata": {},
   "outputs": [],
   "source": [
    "import numpy as np\n",
    "import PhyExp as pe"
   ]
  },
  {
   "cell_type": "markdown",
   "id": "2f555db8e1e49337",
   "metadata": {},
   "source": [
    "## 共轭法（A）\n",
    "使用前提：x0不变，即等精度测量。\n",
    "\n",
    "不确定度传递：\n",
    "$$\n",
    "u(f) = \\sqrt{\\left[\\frac{\\partial f}{\\partial a}u(a)\\right]^2+\\left[\\frac{\\partial f}{\\partial b}u(b)\\right]^2}\n",
    "$$\n",
    "\n",
    "$$\n",
    "u(f) = \\sqrt{\\left[-\\frac{a}{2b}u(a)\\right]^2+\\left[\\frac{a^2+b^2}{4b^2}u(b)\\right]^2}\n",
    "$$"
   ]
  },
  {
   "cell_type": "code",
   "execution_count": null,
   "id": "cf59516a44b04d11",
   "metadata": {
    "ExecuteTime": {
     "end_time": "2025-10-24T10:40:58.084377Z",
     "start_time": "2025-10-24T10:40:58.075205Z"
    }
   },
   "outputs": [],
   "source": [
    "## 填入数据 begin\n",
    "# 物屏位置\n",
    "A_x0 = _*np.ones(5)\n",
    "# 透镜位置 1 左\n",
    "A_x11 = np.array([_])\n",
    "# 透镜位置 1 右\n",
    "A_x12 = np.array([_])\n",
    "# 透镜位置 2 左\n",
    "A_x21 = np.array([_])\n",
    "# 透镜位置 2 右\n",
    "A_x22 = np.array([_])\n",
    "# 白屏位置\n",
    "A_x3 = _*np.ones(5)\n",
    "# 修正值\n",
    "A_delta = _\n",
    "## 填入数据 end\n",
    "\n",
    "# 透镜位置 1\n",
    "A_x1 = (A_x11 + A_x12) / 2\n",
    "# 透镜位置 2\n",
    "A_x2 = (A_x21 + A_x22) / 2\n",
    "# 透镜位置差\n",
    "A_a = np.abs(A_x1 - A_x2)\n",
    "# 物像距离差\n",
    "A_b = np.abs(A_x0 - A_x3)-A_delta\n",
    "# 透镜位置差平均值与不确定度\n",
    "A_a_mean, A_a_A_uncertainty, A_a_B_uncertainty, A_a_uncertainty = pe.mean_std(A_a, 0.05)\n",
    "# 物像距离差平均值与不确定度\n",
    "A_b_mean, A_b_A_uncertainty, A_b_B_uncertainty, A_b_uncertainty = pe.mean_std(A_b, 0.05)\n",
    "# 焦距\n",
    "A_f_mean = (A_b_mean**2 - A_a_mean**2) / (4 * A_b_mean)\n",
    "# 焦距的不确定度\n",
    "A_f_uncertainty = np.sqrt(\n",
    "    ((-A_a_mean/(2*A_b_mean)) * A_a_uncertainty)**2 +\n",
    "    (((A_a_mean**2 + A_b_mean**2)/(4*A_b_mean**2)) * A_b_uncertainty)**2\n",
    ")\n",
    "\n",
    "# 输出结果\n",
    "print(f\"透镜位置 1: {A_x1}\")\n",
    "print(f\"透镜位置 2: {A_x2}\")\n",
    "print(f\"透镜位置差: {A_a}\")\n",
    "print(f\"物像距离差: {A_b}\")\n",
    "print(f\"透镜位置差平均值: {A_a_mean}\")\n",
    "print(f\"物像距离差平均值: {A_b_mean}\")\n",
    "print(f\"焦距平均值: {A_f_mean}\")\n",
    "print(f\"透镜位置差A类不确定度: {A_a_A_uncertainty}\")\n",
    "print(f\"透镜位置差B类不确定度: {A_a_B_uncertainty}\")\n",
    "print(f\"透镜位置差总不确定度: {A_a_uncertainty}\")\n",
    "print(f\"物像距离差A类不确定度: {A_b_A_uncertainty}\")\n",
    "print(f\"物像距离差B类不确定度: {A_b_B_uncertainty}\")\n",
    "print(f\"物像距离差总不确定度: {A_b_uncertainty}\")\n",
    "print(f\"焦距总不确定度: {A_f_uncertainty}\")"
   ]
  },
  {
   "cell_type": "markdown",
   "id": "4d19ce40",
   "metadata": {},
   "source": [
    "## 自准直法测凸透镜焦距（B）\n",
    "这个实验以及后续实验的代码使用前提：x0变化，即不等精度测量。"
   ]
  },
  {
   "cell_type": "code",
   "execution_count": null,
   "id": "e11c43d9",
   "metadata": {},
   "outputs": [],
   "source": [
    "## 填入数据 begin\n",
    "# 物屏位置\n",
    "B_x0 = np.array([_])\n",
    "# 透镜位置 正\n",
    "B_x1 = np.array([_])\n",
    "# 透镜位置 反\n",
    "B_x2 = np.array([_])\n",
    "# 修正值\n",
    "B_delta = _\n",
    "## 填入数据 end\n",
    "\n",
    "# 透镜位置\n",
    "B_xl = (B_x1 + B_x2) / 2\n",
    "# 焦距\n",
    "B_f = np.abs(B_xl - B_x0) - B_delta\n",
    "# 计算平均值和不确定度\n",
    "B_f_mean, B_f_A_uncertainty, B_f_B_uncertainty, B_f_uncertainty = pe.mean_std(B_f, 0.05)\n",
    "\n",
    "# 输出结果\n",
    "print(f\"透镜位置: {B_xl}\")\n",
    "print(f\"焦距: {B_f}\")\n",
    "print(f\"焦距平均值: {B_f_mean}\")\n",
    "print(f\"焦距A类不确定度: {B_f_A_uncertainty}\")\n",
    "print(f\"焦距B类不确定度: {B_f_B_uncertainty}\")\n",
    "print(f\"焦距总不确定度: {B_f_uncertainty}\")"
   ]
  },
  {
   "cell_type": "markdown",
   "id": "9b00f718",
   "metadata": {},
   "source": [
    "## 自准直法测凹透镜焦距（C）"
   ]
  },
  {
   "cell_type": "code",
   "execution_count": null,
   "id": "65ab4916",
   "metadata": {},
   "outputs": [],
   "source": [
    "## 填入数据 begin\n",
    "# 物屏位置\n",
    "C_x0 = np.array([_])\n",
    "# 虚物位置 从左向右\n",
    "C_x11 = np.array([_])\n",
    "# 虚物位置 从右向左\n",
    "C_x12 = np.array([_])\n",
    "# 透镜位置 正\n",
    "C_x21 = np.array([_])\n",
    "# 透镜位置 反\n",
    "C_x22 = np.array([_])\n",
    "## 填入数据 end\n",
    "\n",
    "# 虚物位置\n",
    "C_x1 = (C_x11 + C_x12) / 2\n",
    "# 透镜位置\n",
    "C_x2 = (C_x21 + C_x22) / 2\n",
    "# 焦距\n",
    "C_f = -np.abs(C_x2 - C_x1)\n",
    "# 计算平均值和不确定度\n",
    "C_f_mean, C_f_A_uncertainty, C_f_B_uncertainty, C_f_uncertainty = pe.mean_std(C_f, 0.05)\n",
    "\n",
    "# 输出结果\n",
    "print(f\"虚物位置: {C_x1}\")\n",
    "print(f\"透镜位置: {C_x2}\")\n",
    "print(f\"焦距: {C_f}\")\n",
    "print(f\"焦距平均值: {C_f_mean}\")\n",
    "print(f\"焦距A类不确定度: {C_f_A_uncertainty}\")\n",
    "print(f\"焦距B类不确定度: {C_f_B_uncertainty}\")\n",
    "print(f\"焦距总不确定度: {C_f_uncertainty}\")"
   ]
  },
  {
   "cell_type": "markdown",
   "id": "b19fe33f",
   "metadata": {},
   "source": [
    "## 自准直法测凸面镜焦距（D）"
   ]
  },
  {
   "cell_type": "code",
   "execution_count": null,
   "id": "e61fd526",
   "metadata": {},
   "outputs": [],
   "source": [
    "## 填入数据 begin\n",
    "# 物屏位置\n",
    "D_x0 = np.array([_])\n",
    "# 虚物位置 从左向右\n",
    "D_x11 = np.array([_])\n",
    "# 虚物位置 从右向左\n",
    "D_x12 = np.array([_])\n",
    "# 凸面镜位置\n",
    "D_xL = np.array([_])\n",
    "## 填入数据 end\n",
    "\n",
    "# 虚物位置\n",
    "D_x1 = (D_x11 + D_x12) / 2\n",
    "# 凸面镜曲率半径\n",
    "D_R = np.abs(D_xL - D_x1)\n",
    "# 焦距\n",
    "D_f = -D_R / 2\n",
    "# 计算平均值和不确定度\n",
    "D_f_mean, D_f_A_uncertainty, D_f_B_uncertainty, D_f_uncertainty = pe.mean_std(D_f, 0.05)\n",
    "\n",
    "# 输出结果\n",
    "print(f\"虚物位置: {D_x1}\")\n",
    "print(f\"曲率半径: {D_R}\")\n",
    "print(f\"焦距: {D_f}\")\n",
    "print(f\"焦距平均值: {D_f_mean}\")\n",
    "print(f\"焦距A类不确定度: {D_f_A_uncertainty}\")\n",
    "print(f\"焦距B类不确定度: {D_f_B_uncertainty}\")\n",
    "print(f\"焦距总不确定度: {D_f_uncertainty}\")"
   ]
  }
 ],
 "metadata": {
  "kernelspec": {
   "display_name": "PhyExp",
   "language": "python",
   "name": "python3"
  },
  "language_info": {
   "codemirror_mode": {
    "name": "ipython",
    "version": 3
   },
   "file_extension": ".py",
   "mimetype": "text/x-python",
   "name": "python",
   "nbconvert_exporter": "python",
   "pygments_lexer": "ipython3",
   "version": "3.13.7"
  }
 },
 "nbformat": 4,
 "nbformat_minor": 5
}
